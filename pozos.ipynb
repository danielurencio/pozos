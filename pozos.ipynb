{
 "cells": [
  {
   "cell_type": "markdown",
   "metadata": {},
   "source": [
    "# Práctica: Análisis de datos para la exploración de pozos con _Python_\n",
    "\n",
    "## Resumen\n",
    "\n",
    "El objetivo de este ejercicio es determinar, a través de un análisis de datos, en qué pozos debe de enfocarse la atención para la extracción de petróleo. La metodología adoptada en este documento consiste en analizar la serie de tiempo para cada uno de los pozos con datos para 14 meses. Es decir, sólo se consideran aquellos pozos que cuenten con información para el periodo comprendido entre enero de 2016 y febrero de 2017; dicho rango es el máximo posible de acuerdo con la base de datos  proporcionada.\n",
    "\n",
    "Para cada uno de los pozos que cumplió con el criterio descrito anteriormente se ajustó una regresión lineal cuya variable dependiente $y$ es la producción de petróleo, y la variable independiente $x$ es el índice del periodo observado. Debido a que se cuenta con 14 meses, el índice de cada periodo es un número entero entre 0 y 13 ( $x \\in [0,13]$ ). Cada una de estas regresiones se ajustó para fines meramente descriptivos pues su propósito es obtener una línea de tendencia durante los 14 periodos analizados. Para conocer si la tendencia es positiva o negativa se observó el valor de la pendiente resultante del cómputo de una función lineal a través del método de mínimos cuadrados ordinarios; y para conocer si dicha tendencia, o comportamiento, ha sido estable a lo largo del periodo analizado se observó el coeficiente de determinación $R^2$.\n",
    "\n",
    "Los pozos seleccionados fueron aquellos cuya línea de tendencia fue positiva y cuya bondad de ajuste es mayor o igual a 0.6; 298 pozos cumplen con esta condición.\n",
    "\n",
    "\n",
    "## Introducción\n",
    "\n",
    "Esta práctica se desarrolló con el lenguaje de programación _Python_ y este documento se hizo con una herramienta llamada _Jupyter_. Este trabajo está dividido en tres secciones: procesamiento de datos, metodología, y consideraciones finales.\n",
    "\n",
    "Los archivos con los cuales se desarrolló este análisis se encuentran almacenados en un repositorio público en _Github_. Éste puede descargarse accediendo a la siguiente liga: https://github.com/danielurencio/pozos."
   ]
  },
  {
   "cell_type": "markdown",
   "metadata": {},
   "source": [
    "## 1. Procesamiento de datos\n",
    "\n",
    "### 1.1 Transformación de formato\n",
    "\n",
    "Para llevar a cabo este análisis se obtuvo un archivo en formato Excel (xlsx) el cual contiene 138 mil 876 filas y 13 columnas. Antes de cargar la información a una terminal de línea de comando de _Python_ se transformó el archivo original a un formato delimitado por comas (csv). Después, se eliminaron las primeras 8 líneas de dicha transformación y se sustituyeron algunos caracteres.\n",
    "\n",
    "Se creó, para las tareas que se mencionan, un archivo ejecutable con UNIX Shell, éste contiene 14 líneas. En términos generales, los comandos de este archivo, que se enlistan a continuación, crean y modifican el archivo delimitado por comas (pozos.csv) que será utilizado en _Python_ para llevar a cabo todo el análisis."
   ]
  },
  {
   "cell_type": "code",
   "execution_count": 3,
   "metadata": {
    "collapsed": true
   },
   "outputs": [],
   "source": [
    "# xlsx2csv P*.xlsx > pozos.csv    # Convertir a CSV.\n",
    "# sed -i '1,8d' pozos.csv         # Eliminar las primeras ocho líneas.\n",
    "# sed -i \"s/  */ /g\" pozos.csv    # Borrar dobles espacios.\n",
    "# sed -i \"s/Á/A/g\" pozos.csv      # Sustituir caracteres.\n",
    "# sed -i \"s/á/a/g\" pozos.csv\n",
    "# sed -i \"s/É/E/g\" pozos.csv\n",
    "# sed -i \"s/é/e/g\" pozos.csv\n",
    "# sed -i \"s/Í/I/g\" pozos.csv\n",
    "# sed -i \"s/í/i/g\" pozos.csv\n",
    "# sed -i \"s/Ó/O/g\" pozos.csv\n",
    "# sed -i \"s/ó/o/g\" pozos.csv\n",
    "# sed -i \"s/Ú/U/g\" pozos.csv\n",
    "# sed -i \"s/Ñ/N/g\" pozos.csv\n",
    "# sed -i \"s/ñ/n/g\" pozos.csv"
   ]
  },
  {
   "cell_type": "markdown",
   "metadata": {},
   "source": [
    "### 1.2 Dependencias y procesamiento adicional en Python\n",
    "\n",
    "Las librerías que se utilizaron para este análisis se enlistan a continuación."
   ]
  },
  {
   "cell_type": "code",
   "execution_count": 4,
   "metadata": {
    "collapsed": false
   },
   "outputs": [],
   "source": [
    "%matplotlib inline\n",
    "from __future__ import division\n",
    "import pandas\n",
    "import numpy as np\n",
    "import matplotlib.pyplot as plt\n",
    "import matplotlib.lines as mlines\n",
    "from datetime import datetime\n",
    "from scipy import stats"
   ]
  },
  {
   "cell_type": "markdown",
   "metadata": {},
   "source": [
    "Una vez que se cuenta con las dependencias es posible cargar el archivo \"pozos.csv\". Para ello se utilizará la librería _pandas_ y se declarará una variable bajo el nombre de `data` para asignar a ésta la información del archivo delimitado por comas. Asimismo, se cambiará el nombre de todas las columnas para evitar problemas con caracteres latinos (principalmente con palabras acentuadas)."
   ]
  },
  {
   "cell_type": "code",
   "execution_count": 5,
   "metadata": {
    "collapsed": false
   },
   "outputs": [],
   "source": [
    "## Crear DataFrame con los datos sobre pozos.\n",
    "data = pandas.read_csv(\"pozos.csv\",encoding=\"utf-8\",delimiter=\",\");\n",
    "\n",
    "## Renombrar columnas.\n",
    "data.columns = [\"periodo\",\"asignacion\",\"region_fiscal\",\"campo_oficial\",\"pozo\",\"ronda_licitacion\",\n",
    "                \"compania\",\"produccion_petroleo(mbd)\",\"produccion_gas_asociado(mmpcd)\",\n",
    "                \"produccion_gas_no_asociado(mmpcd)\",\"produccion_total_de_gas(mmpcd)\",\"tipo_de_aceite\",\n",
    "                \"pozo_productor\"];"
   ]
  },
  {
   "cell_type": "markdown",
   "metadata": {},
   "source": [
    "Ahora que la información del archivo se encuentra en la línea de comando es posible visualizar ésta como una tabla (DataFrame)."
   ]
  },
  {
   "cell_type": "code",
   "execution_count": 6,
   "metadata": {
    "collapsed": false
   },
   "outputs": [
    {
     "data": {
      "text/html": [
       "<div>\n",
       "<table border=\"1\" class=\"dataframe\">\n",
       "  <thead>\n",
       "    <tr style=\"text-align: right;\">\n",
       "      <th></th>\n",
       "      <th>periodo</th>\n",
       "      <th>asignacion</th>\n",
       "      <th>region_fiscal</th>\n",
       "      <th>campo_oficial</th>\n",
       "      <th>pozo</th>\n",
       "      <th>ronda_licitacion</th>\n",
       "      <th>compania</th>\n",
       "      <th>produccion_petroleo(mbd)</th>\n",
       "      <th>produccion_gas_asociado(mmpcd)</th>\n",
       "      <th>produccion_gas_no_asociado(mmpcd)</th>\n",
       "      <th>produccion_total_de_gas(mmpcd)</th>\n",
       "      <th>tipo_de_aceite</th>\n",
       "      <th>pozo_productor</th>\n",
       "    </tr>\n",
       "  </thead>\n",
       "  <tbody>\n",
       "    <tr>\n",
       "      <th>0</th>\n",
       "      <td>Jan-16</td>\n",
       "      <td>A-0001 - Campo Abkatun</td>\n",
       "      <td>Aguas Someras</td>\n",
       "      <td>Abkatun</td>\n",
       "      <td>ABKATUN-211--</td>\n",
       "      <td>R0</td>\n",
       "      <td>Pemex</td>\n",
       "      <td>0.756978</td>\n",
       "      <td>1.923678</td>\n",
       "      <td>0.0</td>\n",
       "      <td>1.923678</td>\n",
       "      <td>Ligero</td>\n",
       "      <td>1</td>\n",
       "    </tr>\n",
       "    <tr>\n",
       "      <th>1</th>\n",
       "      <td>Jan-16</td>\n",
       "      <td>A-0001 - Campo Abkatun</td>\n",
       "      <td>Aguas Someras</td>\n",
       "      <td>Abkatun</td>\n",
       "      <td>ABKATUN-216--</td>\n",
       "      <td>R0</td>\n",
       "      <td>Pemex</td>\n",
       "      <td>0.073139</td>\n",
       "      <td>0.051653</td>\n",
       "      <td>0.0</td>\n",
       "      <td>0.051653</td>\n",
       "      <td>Ligero</td>\n",
       "      <td>1</td>\n",
       "    </tr>\n",
       "    <tr>\n",
       "      <th>2</th>\n",
       "      <td>Jan-16</td>\n",
       "      <td>A-0001 - Campo Abkatun</td>\n",
       "      <td>Aguas Someras</td>\n",
       "      <td>Abkatun</td>\n",
       "      <td>ABKATUN-221--</td>\n",
       "      <td>R0</td>\n",
       "      <td>Pemex</td>\n",
       "      <td>0.584042</td>\n",
       "      <td>1.137749</td>\n",
       "      <td>0.0</td>\n",
       "      <td>1.137749</td>\n",
       "      <td>Ligero</td>\n",
       "      <td>1</td>\n",
       "    </tr>\n",
       "    <tr>\n",
       "      <th>3</th>\n",
       "      <td>Jan-16</td>\n",
       "      <td>A-0001 - Campo Abkatun</td>\n",
       "      <td>Aguas Someras</td>\n",
       "      <td>Abkatun</td>\n",
       "      <td>ABKATUN-223--</td>\n",
       "      <td>R0</td>\n",
       "      <td>Pemex</td>\n",
       "      <td>0.209442</td>\n",
       "      <td>1.044266</td>\n",
       "      <td>0.0</td>\n",
       "      <td>1.044266</td>\n",
       "      <td>Ligero</td>\n",
       "      <td>1</td>\n",
       "    </tr>\n",
       "    <tr>\n",
       "      <th>4</th>\n",
       "      <td>Jan-16</td>\n",
       "      <td>A-0001 - Campo Abkatun</td>\n",
       "      <td>Aguas Someras</td>\n",
       "      <td>Abkatun</td>\n",
       "      <td>ABKATUN-35--</td>\n",
       "      <td>R0</td>\n",
       "      <td>Pemex</td>\n",
       "      <td>1.003177</td>\n",
       "      <td>1.054900</td>\n",
       "      <td>0.0</td>\n",
       "      <td>1.054900</td>\n",
       "      <td>Ligero</td>\n",
       "      <td>1</td>\n",
       "    </tr>\n",
       "  </tbody>\n",
       "</table>\n",
       "</div>"
      ],
      "text/plain": [
       "  periodo              asignacion  region_fiscal campo_oficial           pozo  \\\n",
       "0  Jan-16  A-0001 - Campo Abkatun  Aguas Someras       Abkatun  ABKATUN-211--   \n",
       "1  Jan-16  A-0001 - Campo Abkatun  Aguas Someras       Abkatun  ABKATUN-216--   \n",
       "2  Jan-16  A-0001 - Campo Abkatun  Aguas Someras       Abkatun  ABKATUN-221--   \n",
       "3  Jan-16  A-0001 - Campo Abkatun  Aguas Someras       Abkatun  ABKATUN-223--   \n",
       "4  Jan-16  A-0001 - Campo Abkatun  Aguas Someras       Abkatun   ABKATUN-35--   \n",
       "\n",
       "  ronda_licitacion compania  produccion_petroleo(mbd)  \\\n",
       "0               R0    Pemex                  0.756978   \n",
       "1               R0    Pemex                  0.073139   \n",
       "2               R0    Pemex                  0.584042   \n",
       "3               R0    Pemex                  0.209442   \n",
       "4               R0    Pemex                  1.003177   \n",
       "\n",
       "   produccion_gas_asociado(mmpcd)  produccion_gas_no_asociado(mmpcd)  \\\n",
       "0                        1.923678                                0.0   \n",
       "1                        0.051653                                0.0   \n",
       "2                        1.137749                                0.0   \n",
       "3                        1.044266                                0.0   \n",
       "4                        1.054900                                0.0   \n",
       "\n",
       "   produccion_total_de_gas(mmpcd) tipo_de_aceite  pozo_productor  \n",
       "0                        1.923678         Ligero               1  \n",
       "1                        0.051653         Ligero               1  \n",
       "2                        1.137749         Ligero               1  \n",
       "3                        1.044266         Ligero               1  \n",
       "4                        1.054900         Ligero               1  "
      ]
     },
     "execution_count": 6,
     "metadata": {},
     "output_type": "execute_result"
    }
   ],
   "source": [
    "data.head()"
   ]
  },
  {
   "cell_type": "markdown",
   "metadata": {},
   "source": [
    "Para conocer el número de pozos puede hacerse lo siguiente."
   ]
  },
  {
   "cell_type": "code",
   "execution_count": 7,
   "metadata": {
    "collapsed": false
   },
   "outputs": [
    {
     "name": "stdout",
     "output_type": "stream",
     "text": [
      "Número de pozos: 11646\n",
      "[u'5 PRESIDENTES-12--' u'5 PRESIDENTES-145D-' u'5 PRESIDENTES-151--' ...,\n",
      " u'ZAPOTALILLO-3--' u'ZAPOTALILLO-8--' u'ZAPOTALILLO-9--']\n"
     ]
    }
   ],
   "source": [
    "## Pozos (sin repetir valores) \n",
    "pozos = np.unique(data.pozo.values);\n",
    "print \"Número de pozos:\",len(pozos)\n",
    "print pozos"
   ]
  },
  {
   "cell_type": "markdown",
   "metadata": {},
   "source": [
    "Lo anterior indica que existe información para 11 mil 646 pozos.\n",
    "\n",
    "Dado que este análisis toma en cuenta la serie de tiempo para cada pozo, es necesario asegurarse de que los datos están ordenados con respecto al momento en el que se registró tal observación. Por ello, como medida de precaución, se transformará el formato de los campos que incluyen los periodos (mes y año) a un formato de fechas. Hasta este punto, la información sobre el periodo de tiempo de cada pozo está almacenada como un conjunto de caracteres concatenados, por lo que si se ordenan los datos de modo ascendente se obtendrá un orden alfabético en vez de un orden que refleje la temporalidad en la que las observaciones fueron captadas."
   ]
  },
  {
   "cell_type": "code",
   "execution_count": 8,
   "metadata": {
    "collapsed": false
   },
   "outputs": [
    {
     "data": {
      "text/plain": [
       "36820    Apr-16\n",
       "35396    Apr-16\n",
       "35397    Apr-16\n",
       "35398    Apr-16\n",
       "35399    Apr-16\n",
       "Name: periodo, dtype: object"
      ]
     },
     "execution_count": 8,
     "metadata": {},
     "output_type": "execute_result"
    }
   ],
   "source": [
    "# Ordenar el campo con periodos de modo ascendente.\n",
    "data.sort_values(by=\"periodo\").head()[\"periodo\"]"
   ]
  },
  {
   "cell_type": "markdown",
   "metadata": {},
   "source": [
    "Para corregir lo anterior se cambiará el formato del campo con los periodos, esto tiene el propósito de que, en el código, la información sea interpretada como fechas y no como caracteres."
   ]
  },
  {
   "cell_type": "code",
   "execution_count": 9,
   "metadata": {
    "collapsed": false
   },
   "outputs": [
    {
     "data": {
      "text/plain": [
       "0       2016-01-01 00:00:00\n",
       "6166    2016-01-01 00:00:00\n",
       "6167    2016-01-01 00:00:00\n",
       "6168    2016-01-01 00:00:00\n",
       "6169    2016-01-01 00:00:00\n",
       "Name: periodo, dtype: object"
      ]
     },
     "execution_count": 9,
     "metadata": {},
     "output_type": "execute_result"
    }
   ],
   "source": [
    "periodos = data.periodo.values;\n",
    "\n",
    "# Para cada periodo dar formato de fecha.\n",
    "for i in range(len(periodos)):\n",
    "    periodos[i] = periodos[i].encode(\"utf-8\");\n",
    "    periodos[i] = datetime.strptime(periodos[i],\"%b-%y\");\n",
    "\n",
    "# Agregar\n",
    "periodos = pandas.DataFrame({ \"periodos\":periodos[:] })\n",
    "data.periodos = periodos;\n",
    "\n",
    "# Ordenar por fecha, ahora con el nuevo formato.\n",
    "data = data.sort_values(by=\"periodo\")\n",
    "# Mostrar las primeras observaciones.\n",
    "data.head()[\"periodo\"]\n"
   ]
  },
  {
   "cell_type": "markdown",
   "metadata": {},
   "source": [
    "Anteriormente, el orden alfabético colocaba en el principio de la tabla a las observaciones del mes de abril de 2016. Después de cambiar el formato las primeras observaciones son de enero de 2016, y las últimas son de febrero de 2017."
   ]
  },
  {
   "cell_type": "code",
   "execution_count": 10,
   "metadata": {
    "collapsed": false
   },
   "outputs": [
    {
     "name": "stdout",
     "output_type": "stream",
     "text": [
      "Número de periodos: 14\n"
     ]
    },
    {
     "data": {
      "text/plain": [
       "array([datetime.datetime(2016, 1, 1, 0, 0),\n",
       "       datetime.datetime(2016, 2, 1, 0, 0),\n",
       "       datetime.datetime(2016, 3, 1, 0, 0),\n",
       "       datetime.datetime(2016, 4, 1, 0, 0),\n",
       "       datetime.datetime(2016, 5, 1, 0, 0),\n",
       "       datetime.datetime(2016, 6, 1, 0, 0),\n",
       "       datetime.datetime(2016, 7, 1, 0, 0),\n",
       "       datetime.datetime(2016, 8, 1, 0, 0),\n",
       "       datetime.datetime(2016, 9, 1, 0, 0),\n",
       "       datetime.datetime(2016, 10, 1, 0, 0),\n",
       "       datetime.datetime(2016, 11, 1, 0, 0),\n",
       "       datetime.datetime(2016, 12, 1, 0, 0),\n",
       "       datetime.datetime(2017, 1, 1, 0, 0),\n",
       "       datetime.datetime(2017, 2, 1, 0, 0)], dtype=object)"
      ]
     },
     "execution_count": 10,
     "metadata": {},
     "output_type": "execute_result"
    }
   ],
   "source": [
    "periodos = np.unique(data.periodo.values)\n",
    "print \"Número de periodos:\",len(periodos)\n",
    "periodos"
   ]
  },
  {
   "cell_type": "markdown",
   "metadata": {},
   "source": [
    "## 2. Metodología\n",
    "\n",
    "### 2.1 Selección de observaciones de acuerdo con los periodos disponibles\n",
    "\n",
    "Se seleccionarán sólo aquellos campos que cuentan con observaciones para el máximo periodo disponible en la base de datos original (son 14 meses de enero de 2016 a febrero de 2017). Para poder conocer qué campos cuentan con observaciones para 14 periodos se declarará una función que, de la tabla original, filtre el número de periodos disponible para cada pozo. Para ello resulta útil la variable llamada `pozos` declarada anteriormente, ésta almacena una lista con los nombres únicos de cada pozo. \n",
    "\n",
    "La nueva función que se declarará arroja una nueva tabla con dos columnas. En la primera se encuentran los nombres de cada pozo y en la segunda el número de periodos que existen para cada uno de éstos. La variable `pozos` resulta útil ya que es utilizada por la nueva función para iterar a lo largo de cada una de las observaciones dentro de la tabla original y así obtener el número de periodos que existen."
   ]
  },
  {
   "cell_type": "code",
   "execution_count": 11,
   "metadata": {
    "collapsed": true
   },
   "outputs": [],
   "source": [
    "def NuevaTabla(archivo):\n",
    "    nuevaTabla = [];\n",
    "    print \"Computando...\";\n",
    "    # Agregar nombre de pozos y periodos disponibles a una lista. La columna '7' es 'produccion_petroleo(mdb)'\n",
    "    for i in range(len(pozos)):\n",
    "        nuevaTabla.append( [pozos[i], len( data[data['pozo'] == pozos[i]][[7]] )] );\n",
    "\n",
    "    # Convertir a formato DataFrame.\n",
    "    nuevaTabla = np.array(nuevaTabla);\n",
    "    nuevaTabla = pandas.DataFrame({ 'pozos':nuevaTabla[:,0], 'observaciones':nuevaTabla[:,1] })\n",
    "    print \"Se ha obtenido la nueva tabla..\";\n",
    "    if(archivo):\n",
    "        # Si la variable 'archivo' es igual a '1' o igual a 'True' crear archivo 'frecuencias.csv'.\n",
    "        nuevaTabla.to_csv(\"frecuencias.csv\",encoding=\"utf-8\",index=False);\n",
    "        print \"Archivo con frecuencias guardado.\";\n",
    "    return nuevaTabla; # Arrojar nueva tabla.\n"
   ]
  },
  {
   "cell_type": "markdown",
   "metadata": {},
   "source": [
    "Como puede notarse, la función anterior puede aceptar un parámetro. En caso de hacerlo, que recomendablemente debe de ser `1` ó `True`, la función creará un archivo delimitado por comas llamado _frecuencias.csv_. Esto es de utilidad ya que la iteración de la función puede tomar mucho tiempo, por lo que si quisiera reanudarse el código sin tener que ejecutar esta función simplemente debe de cargarse el archivo _frecuencias.csv_ usando la librería _pandas_."
   ]
  },
  {
   "cell_type": "code",
   "execution_count": 12,
   "metadata": {
    "collapsed": false
   },
   "outputs": [
    {
     "data": {
      "text/html": [
       "<div>\n",
       "<table border=\"1\" class=\"dataframe\">\n",
       "  <thead>\n",
       "    <tr style=\"text-align: right;\">\n",
       "      <th></th>\n",
       "      <th>observaciones</th>\n",
       "      <th>pozos</th>\n",
       "    </tr>\n",
       "  </thead>\n",
       "  <tbody>\n",
       "    <tr>\n",
       "      <th>0</th>\n",
       "      <td>14</td>\n",
       "      <td>5 PRESIDENTES-12--</td>\n",
       "    </tr>\n",
       "    <tr>\n",
       "      <th>1</th>\n",
       "      <td>6</td>\n",
       "      <td>5 PRESIDENTES-145D-</td>\n",
       "    </tr>\n",
       "    <tr>\n",
       "      <th>2</th>\n",
       "      <td>1</td>\n",
       "      <td>5 PRESIDENTES-151--</td>\n",
       "    </tr>\n",
       "    <tr>\n",
       "      <th>3</th>\n",
       "      <td>5</td>\n",
       "      <td>5 PRESIDENTES-151D-</td>\n",
       "    </tr>\n",
       "    <tr>\n",
       "      <th>4</th>\n",
       "      <td>3</td>\n",
       "      <td>5 PRESIDENTES-160T-</td>\n",
       "    </tr>\n",
       "  </tbody>\n",
       "</table>\n",
       "</div>"
      ],
      "text/plain": [
       "   observaciones                pozos\n",
       "0             14   5 PRESIDENTES-12--\n",
       "1              6  5 PRESIDENTES-145D-\n",
       "2              1  5 PRESIDENTES-151--\n",
       "3              5  5 PRESIDENTES-151D-\n",
       "4              3  5 PRESIDENTES-160T-"
      ]
     },
     "execution_count": 12,
     "metadata": {},
     "output_type": "execute_result"
    }
   ],
   "source": [
    "# Si no existe el archivo 'frecuencias.csv' y es la primera vez que se ejecuta el script:\n",
    "# frecuencias = NuevaTabla(1);\n",
    "\n",
    "# Si ya existe el archivo se puede cargar con pandas:\n",
    "frecuencias = pandas.read_csv(\"frecuencias.csv\");\n",
    "frecuencias.head()"
   ]
  },
  {
   "cell_type": "markdown",
   "metadata": {},
   "source": [
    "Al contar con el número de observaciones por pozo el siguiente paso es filtrar aquellos pozos que tienen 14 observaciones. La mayoría de los pozos cuenta con observaciones para el máximo periodo posible pues más del 60 por ciento de los registros cumple con esta condición."
   ]
  },
  {
   "cell_type": "code",
   "execution_count": 13,
   "metadata": {
    "collapsed": false
   },
   "outputs": [
    {
     "name": "stdout",
     "output_type": "stream",
     "text": [
      "Número total de pozos: 11646\n",
      "Número de pozos con 14 periodos: 7321\n",
      "Porcentaje de pozos con 14 periodos: 62.8627855058 %\n"
     ]
    }
   ],
   "source": [
    "# Número inicial de pozos\n",
    "print \"Número total de pozos:\",len(frecuencias)\n",
    "\n",
    "# Aplicar filtro\n",
    "filtro = frecuencias[frecuencias['observaciones'] == 14]\n",
    "print \"Número de pozos con 14 periodos:\",len(filtro)\n",
    "print \"Porcentaje de pozos con 14 periodos:\",(len(filtro) / len(frecuencias)) * 100, \"%\""
   ]
  },
  {
   "cell_type": "code",
   "execution_count": 14,
   "metadata": {
    "collapsed": false
   },
   "outputs": [
    {
     "data": {
      "text/plain": [
       "<matplotlib.axes.AxesSubplot at 0x7f2d1fcf1bd0>"
      ]
     },
     "execution_count": 14,
     "metadata": {},
     "output_type": "execute_result"
    },
    {
     "data": {
      "image/png": "[encoded data removed]",
      "text/plain": [
       "<matplotlib.figure.Figure at 0x7f2d1fcf1a90>"
      ]
     },
     "metadata": {},
     "output_type": "display_data"
    }
   ],
   "source": [
    "frecuencias[\"observaciones\"].hist()"
   ]
  },
  {
   "cell_type": "markdown",
   "metadata": {},
   "source": [
    "### 2.2 Parámetros de una regresión lineal simple como medida de tendencia"
   ]
  },
  {
   "cell_type": "markdown",
   "metadata": {
    "collapsed": true
   },
   "source": [
    "De manera descriptiva, pueden utilizarse algunos parámetros obtenidos a través del método de mínimos cuadrados ordinarios para establecer medidas de tendencia para una serie de tiempo. Convencionalmente, una regresión lineal, en su forma más simple, está dada por:"
   ]
  },
  {
   "cell_type": "markdown",
   "metadata": {},
   "source": [
    "$$\\hat{y} = \\theta_0 + \\theta_1 \\cdot x$$"
   ]
  },
  {
   "cell_type": "markdown",
   "metadata": {},
   "source": [
    "En donde $\\hat{y}$ es el valor estimado, o variable dependiente, $x$ es la variable independiente, y los parámetros $\\theta_0$ y $\\theta_1$ representan el intercepto y la pendiente de la función ajustada respectivamente.\n",
    "\n",
    "Asimismo, el coeficiente de determinación, o $R^2$, es una medida que ofrece información sobre la proporción de la varianza de la variable dependiente que es explicada por la variable independiente; en otras palabras, este coeficiente es una medida para evaluar la bondad del ajuste de una regresión lineal. Este coeficiente, para una ecuación con una sola regresora, puede obtenerse al elevar al cuadrado el coeficiente de correlación de _Pearson_."
   ]
  },
  {
   "cell_type": "markdown",
   "metadata": {},
   "source": [
    "$$ \\rho^2 = \\left( \\frac{cov(x,y)}{\\sigma_x \\cdot \\sigma_y} \\right) ^2\\ = R^2 \\in [0,1] $$"
   ]
  },
  {
   "cell_type": "markdown",
   "metadata": {},
   "source": [
    "Para obtener una medida descriptiva de tendencia para cada una de las series de tiempo de los pozos seleccionados, se estimarán las pendientes y los coeficientes de determinación, $\\theta_1$ y $R^2$.\n",
    "\n",
    "El signo del valor de la pendiente $\\theta_1$ será interpretado como un indicador para determinar si la producción de un pozo se ha mantenido constante, si ha crecido, o si ha decrecido. Asimismo, el coeficiente de determinación $R^2$ se utilizará como una medida para conocer si el comportamiento de la tendencia es estable; mientras más cercano a $0$ sea el valor del coeficiente más inestable es la tendencia, y mientras más cercano a $1$ más estable es ésta."
   ]
  },
  {
   "cell_type": "markdown",
   "metadata": {},
   "source": [
    "$$ \\theta1 < 0 \\rightarrow tendencia\\ a\\ la\\ baja $$\n",
    "$$ \\theta1 > 0 \\rightarrow tendencia\\ a\\ la\\ alza $$\n",
    "$$ R^2 \\approx 0 \\rightarrow tendencia\\ inestable $$\n",
    "$$ R^2 \\approx 1 \\rightarrow tendencia\\ estable $$"
   ]
  },
  {
   "cell_type": "markdown",
   "metadata": {},
   "source": [
    "### 2.3 Código para la estimación de parámetros\n",
    "\n",
    "Para hacer estas estimaciones en _Python_ se ha optado por declarar un objeto con métodos. Esto permite estimar los parámetros requeridos con relativamente pocas líneas de código. En otras palabras, para cada pozo se creará una instancia del objeto, de nombre `Reg` (por regresión lineal), y cada instancia podrá ejecutar los métodos que estimarán $\\theta_1$ y $R^2$ de la serie de tiempo que corresponden al pozo asignado al objeto. A continuación se presenta el código orientado a objetos y posteriormente se hará una descripción de cómo funcióna éste."
   ]
  },
  {
   "cell_type": "code",
   "execution_count": 15,
   "metadata": {
    "collapsed": true
   },
   "outputs": [],
   "source": [
    "class Reg(object):\n",
    "    def __init__(self,pozo,variable):\n",
    "        self.pozo = pozo\n",
    "        self.variable = variable\n",
    "        self.x = 0\n",
    "        self.y = 0\n",
    "        self.slope = 0\n",
    "        self.intercept = 0\n",
    "        self.R_2 = 0\n",
    "        self.y_yat = 0\n",
    "\n",
    "    def Parametros(self):\n",
    "        self.y = data[data['pozo'] == self.pozo][[self.variable]].values;\n",
    "        self.y = self.y.reshape(1,self.y.shape[0])[0].tolist();\n",
    "        self.x = [];\n",
    "        for i in range(len(self.y)):\n",
    "            self.x.append(i);\n",
    "\n",
    "\n",
    "        self.x = np.array(self.x);\n",
    "        self.y = np.array(self.y);\n",
    "        self.slope,self.intercept,self.R_2,p_value,std_err = stats.linregress(self.x,self.y);\n",
    "        self.R_2 = self.R_2**2\n",
    "\n",
    "    def Graficar(self):\n",
    "        self.y_hat = self.intercept + self.slope * self.x\n",
    "        plt.plot(self.x,self.y)\n",
    "        plt.plot(self.x,self.y_hat)\n",
    "        plt.show()\n"
   ]
  },
  {
   "cell_type": "markdown",
   "metadata": {},
   "source": [
    " El código anterior permite declarar objetos los cuales cuentan con tres métodos, o funciones. El primer método permite recibir los parámetros `pozo` y `variable`, los cuales se refieren al nombre del pozo analizado y a la variable para la cual se estimarán $\\theta_1$ y $R^2$ respectivamente; en este análisis sólo se considerará la variable `produccion_petroleo(mbd)`. Tanto $\\theta_1$ y $R^2$  se calculan con el segundo método llamado `Parametros`. \n",
    " \n",
    " El tercer y último método, `Graficar`, visualiza los datos de la serie de tiempo para el pozo analizado y traza la línea de tendencia obtenida a traves del método de mínimos cuadrados ordinarios; para ello se utiliza la librería _scipy_.\n",
    " \n",
    "Para mayores detalles sobre cómo se calculan $\\theta_1$ y $R^2$, considérense los siguientes comentarios para el método `Parametros`."
   ]
  },
  {
   "cell_type": "code",
   "execution_count": 16,
   "metadata": {
    "collapsed": true
   },
   "outputs": [],
   "source": [
    "    def Parametros(self):\n",
    "        # Se almacenan los datos de la variable seleccionada, para el pozo analizado,\n",
    "        # y se utilizan como la \"y\", o variable dependiente, de la regresión.\n",
    "        self.y = data[data['pozo'] == self.pozo][[self.variable]].values;\n",
    "        self.y = self.y.reshape(1,self.y.shape[0])[0].tolist();\n",
    "        # Como variable independiente se utilizan los índices de los periodos existentes.\n",
    "        # Dado que se toman 14 periodos, el índice para el primer mes sería el 0, para el\n",
    "        # segundo mes sería el 1, para el tercero el 2, y así sucesivamente hasta llegar al 13.\n",
    "        self.x = [];\n",
    "        for i in range(len(self.y)):\n",
    "            self.x.append(i);\n",
    "\n",
    "\n",
    "        self.x = np.array(self.x);\n",
    "        self.y = np.array(self.y);\n",
    "        # A través de la función \"stats.linregress\" de la librería 'scipy' pueden obtenerse\n",
    "        # cinco parámetros de una regresión lineal simple: la pendiente, el intercepto, el\n",
    "        # coeficiente de Pearson, el 'p value' y el error estándar.\n",
    "        self.slope,self.intercept,self.R_2,p_value,std_err = stats.linregress(self.x,self.y);\n",
    "        # Para obtener el coeficiente de determinación, R^2, simplemente se eleva al cuadrado\n",
    "        # al coeficiente de Person obtenido en la función anterior.\n",
    "        self.R_2 = self.R_2**2"
   ]
  },
  {
   "cell_type": "markdown",
   "metadata": {},
   "source": [
    "En resumen, el segundo método toma como variable dependiente al parámetro que se le haya dado al objeto además del nombre del pozo, y como variable independiente se toman los índices de cada uno de los periodos de la serie de tiempo."
   ]
  },
  {
   "cell_type": "markdown",
   "metadata": {},
   "source": [
    "$$ \\hat{y_i} \\equiv variable\\ selecionada $$\n",
    "$$ x_i \\equiv i_t \\in [0,13] $$"
   ]
  },
  {
   "cell_type": "markdown",
   "metadata": {},
   "source": [
    "Para esclarecer lo anterior, a continuación se presenta un ejemplo.\n",
    "\n",
    "Con la variable `pozos`, que almacena el nombre de cada uno de los pozos puede obtenerse el nombre tanto del primero como del último pozo en la lista.\n",
    "\n"
   ]
  },
  {
   "cell_type": "code",
   "execution_count": 17,
   "metadata": {
    "collapsed": false
   },
   "outputs": [
    {
     "name": "stdout",
     "output_type": "stream",
     "text": [
      "Primer pozo de la lista: 5 PRESIDENTES-12--\n",
      "Último pozo de la lista: ZAPOTALILLO-9--\n"
     ]
    }
   ],
   "source": [
    "print \"Primer pozo de la lista:\",pozos[0]\n",
    "print \"Último pozo de la lista:\",pozos[len(pozos)-1]"
   ]
  },
  {
   "cell_type": "markdown",
   "metadata": {},
   "source": [
    "Para obtener los parámetros, se declararán instancias del objeto `Reg` para los dos pozos anteriores."
   ]
  },
  {
   "cell_type": "code",
   "execution_count": 18,
   "metadata": {
    "collapsed": false
   },
   "outputs": [
    {
     "name": "stdout",
     "output_type": "stream",
     "text": [
      "El índice 7 corresponde a la variable: produccion_petroleo(mbd)\n",
      "\n",
      "Pendiente y coeficiente de determinación de 5 Presidentes-12:\n",
      "-0.00460927324165 , 0.703997016224\n",
      "\n",
      "Pendiente y coeficiente de determinación de Zapotalillo-9:\n",
      "-0.000218826490386 , 0.416178740363\n"
     ]
    }
   ],
   "source": [
    "# La variable seleccionada es 'produccion_petroleo(mbd)', cuyo índice de columna es el número 7.\n",
    "print \"El índice 7 corresponde a la variable:\",data.columns[7];\n",
    "print \"\"\n",
    "\n",
    "# Declarar objetos para los pozos 5 Presidentes-12 y Zapotalillo-9.\n",
    "presidentes_12 = Reg(pozos[0],7);\n",
    "zapotalillo_9 = Reg(pozos[len(pozos)-1],7);\n",
    "\n",
    "# Estimación de parámetros a través del segundo metodo.\n",
    "presidentes_12.Parametros();\n",
    "zapotalillo_9.Parametros();\n",
    "\n",
    "print \"Pendiente y coeficiente de determinación de 5 Presidentes-12:\"\n",
    "print presidentes_12.slope,\",\",presidentes_12.R_2\n",
    "print \"\"\n",
    "print \"Pendiente y coeficiente de determinación de Zapotalillo-9:\"\n",
    "print zapotalillo_9.slope,\",\",zapotalillo_9.R_2\n"
   ]
  },
  {
   "cell_type": "markdown",
   "metadata": {},
   "source": [
    "Para visualizar lo anterior, puede utilizarse el tercer método del objeto `Reg`. Por ejemplo, la gráfica para 5 Presidentes-12 es:"
   ]
  },
  {
   "cell_type": "code",
   "execution_count": 19,
   "metadata": {
    "collapsed": false
   },
   "outputs": [
    {
     "data": {
      "image/png": "[encoded data removed]",
      "text/plain": [
       "<matplotlib.figure.Figure at 0x7f2d22f9ef50>"
      ]
     },
     "metadata": {},
     "output_type": "display_data"
    }
   ],
   "source": [
    "presidentes_12.Graficar()"
   ]
  },
  {
   "cell_type": "markdown",
   "metadata": {},
   "source": [
    "Y la gráfica para Zapotalillo-9 es:"
   ]
  },
  {
   "cell_type": "code",
   "execution_count": 20,
   "metadata": {
    "collapsed": false
   },
   "outputs": [
    {
     "data": {
      "image/png": "[encoded data removed]",
      "text/plain": [
       "<matplotlib.figure.Figure at 0x7f2d22ddf310>"
      ]
     },
     "metadata": {},
     "output_type": "display_data"
    }
   ],
   "source": [
    "zapotalillo_9.Graficar()"
   ]
  },
  {
   "cell_type": "markdown",
   "metadata": {},
   "source": [
    "Así como se calcularon los parámetros para los dos pozos anteriores, lo mismo puede hacerse para la totalidad de los pozos dentro de la variable `pozos`. Sin embargo, dado que existen 11 mil 646 pozos, escribir una línea para declarar una instancia del objeto `Reg` para cada uno de los pozos generaría un código sumamente extenso.\n",
    "\n",
    "Por la razón anterior, se declarará una función que, con menos de 15 líneas, estimará $\\theta_1$ y $R^2$ para todos los pozos. Del mismo modo, la función arrojará una tabla con tres columnas; en una se alamacenan los nombres de los pozos, y en las otras dos los parámetros $\\theta_1$ y $R^2$ que corresponden a ese mismo pozo. Si se desea, la función también puede aceptar un parámetro, `1` ó `True`, para exportar la tabla generada a un archivo delimitado por comas llamado `params.csv`."
   ]
  },
  {
   "cell_type": "code",
   "execution_count": 21,
   "metadata": {
    "collapsed": true
   },
   "outputs": [],
   "source": [
    "def estimar_parametros(pozos,archivo):\n",
    "    tabla = []\n",
    "    for i in range(len(pozos)):\n",
    "        a = Reg(pozos[i],7)\n",
    "        a.Parametros();\n",
    "        b = [pozos[i], a.slope, a.R_2]\n",
    "        tabla.append(b)\n",
    "        print pozos[i],a.slope,a.R_2\n",
    "\n",
    "    tabla = np.array(tabla);\n",
    "    tabla = pandas.DataFrame({ 'pozos':tabla[:,0],'slopes':tabla[:,1],'R2':tabla[:,2] })\n",
    "    if(archivo):\n",
    "        tabla.to_csv(\"params.csv\",encoding=\"utf-8\",index=False);\n",
    "        print \"Archivo con parámetros guardado.\";\n",
    "    return tabla;\n"
   ]
  },
  {
   "cell_type": "code",
   "execution_count": 22,
   "metadata": {
    "collapsed": false
   },
   "outputs": [
    {
     "data": {
      "text/html": [
       "<div>\n",
       "<table border=\"1\" class=\"dataframe\">\n",
       "  <thead>\n",
       "    <tr style=\"text-align: right;\">\n",
       "      <th></th>\n",
       "      <th>R2</th>\n",
       "      <th>pozos</th>\n",
       "      <th>slopes</th>\n",
       "    </tr>\n",
       "  </thead>\n",
       "  <tbody>\n",
       "    <tr>\n",
       "      <th>0</th>\n",
       "      <td>0.703997</td>\n",
       "      <td>5 PRESIDENTES-12--</td>\n",
       "      <td>-0.004609</td>\n",
       "    </tr>\n",
       "    <tr>\n",
       "      <th>1</th>\n",
       "      <td>0.860456</td>\n",
       "      <td>5 PRESIDENTES-165--</td>\n",
       "      <td>-0.005293</td>\n",
       "    </tr>\n",
       "    <tr>\n",
       "      <th>2</th>\n",
       "      <td>0.040195</td>\n",
       "      <td>5 PRESIDENTES-170--</td>\n",
       "      <td>-0.000010</td>\n",
       "    </tr>\n",
       "    <tr>\n",
       "      <th>3</th>\n",
       "      <td>0.193084</td>\n",
       "      <td>5 PRESIDENTES-2--</td>\n",
       "      <td>-0.002759</td>\n",
       "    </tr>\n",
       "    <tr>\n",
       "      <th>4</th>\n",
       "      <td>0.063292</td>\n",
       "      <td>5 PRESIDENTES-28--</td>\n",
       "      <td>0.001912</td>\n",
       "    </tr>\n",
       "  </tbody>\n",
       "</table>\n",
       "</div>"
      ],
      "text/plain": [
       "         R2                pozos    slopes\n",
       "0  0.703997   5 PRESIDENTES-12-- -0.004609\n",
       "1  0.860456  5 PRESIDENTES-165-- -0.005293\n",
       "2  0.040195  5 PRESIDENTES-170-- -0.000010\n",
       "3  0.193084    5 PRESIDENTES-2-- -0.002759\n",
       "4  0.063292   5 PRESIDENTES-28--  0.001912"
      ]
     },
     "execution_count": 22,
     "metadata": {},
     "output_type": "execute_result"
    }
   ],
   "source": [
    "# Si es la primera vez que se corre el código y no se cuenta con el archivo 'params.csv':\n",
    "# params = estimar_parametros(pozos,1);\n",
    "\n",
    "# Si el archivo 'params.csv' existe:\n",
    "params = pandas.read_csv(\"params.csv\")\n",
    "\n",
    "# Los primeros 5 registros de la tabla creada:\n",
    "params.head()"
   ]
  },
  {
   "cell_type": "markdown",
   "metadata": {},
   "source": [
    "### 2.4 Selección de pozos en función al valor de los parámetros\n",
    "\n",
    "Dado que el objetivo principal de esta práctica es seleccionar pozos de acuerdo con algún criterio, las condiciones elegidas para determinar en cuáles pozos se deben de enfocar esfuerzos son las siguientes:\n",
    "\n",
    "* Contar con una pendiente, $\\theta_1$, positiva para la regresión simple de la variable escogida\n",
    "* Contar con un coeficiente de determinación, $R^2$, mayor o igual a 0.6.\n",
    "\n",
    "En otras palabras, el critero de selección de pozos consiste en observar aquéllos con una producción que muestre una tendencia positiva y moderadamente estable. En el código los filtros pueden aplicarse de la siguiente manera:"
   ]
  },
  {
   "cell_type": "code",
   "execution_count": 24,
   "metadata": {
    "collapsed": false
   },
   "outputs": [
    {
     "data": {
      "text/plain": [
       "array([[<matplotlib.axes.AxesSubplot object at 0x7f2d22d7c3d0>,\n",
       "        <matplotlib.axes.AxesSubplot object at 0x7f2d22d11150>]], dtype=object)"
      ]
     },
     "execution_count": 24,
     "metadata": {},
     "output_type": "execute_result"
    },
    {
     "data": {
      "image/png": "[encoded data removed]",
      "text/plain": [
       "<matplotlib.figure.Figure at 0x7f2d230462d0>"
      ]
     },
     "metadata": {},
     "output_type": "display_data"
    },
    {
     "data": {
      "image/png": "[encoded data removed]",
      "text/plain": [
       "<matplotlib.figure.Figure at 0x7f2d2040b110>"
      ]
     },
     "metadata": {},
     "output_type": "display_data"
    }
   ],
   "source": [
    "# Aquellos pozos que tengan una R^2 mayor o igual a 0.6 y que tengan una pendiente positiva.\n",
    "seleccion = params[(params['R2']>=0.6) & (params['slopes']>0)];\n",
    "\n",
    "#params.hist()\n",
    "#plt.rcParams['xtick.labelsize'] = 6\n",
    "#seleccion.hist()\n",
    "plt.scatter(params['R2'],params['slopes'],color='k',alpha=0.4)\n",
    "\n",
    "plt.plot((0, 1), (0, 0), 'r')\n",
    "plt.plot((.6, .6), (-1, 1), 'r')\n",
    "plt.xlim(0,1)\n",
    "plt.ylim(-.9,.75)\n",
    "plt.annotate(\"Pozos seleccionados\",xy=(.65,.6),xytext=(.65,.6),color='red')\n",
    "plt.ylabel('$\\\\theta_1$', fontsize=18)\n",
    "plt.xlabel('$R^2$', fontsize=16)\n",
    "\n",
    "seleccion.hist()"
   ]
  },
  {
   "cell_type": "code",
   "execution_count": 25,
   "metadata": {
    "collapsed": false
   },
   "outputs": [
    {
     "name": "stdout",
     "output_type": "stream",
     "text": [
      "Número de pozos seleccionados: 298\n"
     ]
    }
   ],
   "source": [
    "print \"Número de pozos seleccionados:\",len(seleccion)"
   ]
  },
  {
   "cell_type": "markdown",
   "metadata": {},
   "source": [
    "A continuación se muestran algunos de los resultados ordenados, en orden descendiente, primero de acuerdo por el valor de su pendiente y después por el valor de su coeficiente de determinación."
   ]
  },
  {
   "cell_type": "code",
   "execution_count": 27,
   "metadata": {
    "collapsed": false
   },
   "outputs": [
    {
     "data": {
      "text/html": [
       "<div>\n",
       "<table border=\"1\" class=\"dataframe\">\n",
       "  <thead>\n",
       "    <tr style=\"text-align: right;\">\n",
       "      <th></th>\n",
       "      <th>R2</th>\n",
       "      <th>pozos</th>\n",
       "      <th>slopes</th>\n",
       "    </tr>\n",
       "  </thead>\n",
       "  <tbody>\n",
       "    <tr>\n",
       "      <th>7274</th>\n",
       "      <td>0.610944</td>\n",
       "      <td>ZAAP-2--</td>\n",
       "      <td>0.520009</td>\n",
       "    </tr>\n",
       "    <tr>\n",
       "      <th>7235</th>\n",
       "      <td>0.865349</td>\n",
       "      <td>XANAB-52--</td>\n",
       "      <td>0.460291</td>\n",
       "    </tr>\n",
       "    <tr>\n",
       "      <th>7267</th>\n",
       "      <td>0.841306</td>\n",
       "      <td>ZAAP-126--</td>\n",
       "      <td>0.455553</td>\n",
       "    </tr>\n",
       "    <tr>\n",
       "      <th>7263</th>\n",
       "      <td>0.791921</td>\n",
       "      <td>ZAAP-110D-</td>\n",
       "      <td>0.435273</td>\n",
       "    </tr>\n",
       "    <tr>\n",
       "      <th>3997</th>\n",
       "      <td>0.686679</td>\n",
       "      <td>KU-87--</td>\n",
       "      <td>0.348323</td>\n",
       "    </tr>\n",
       "    <tr>\n",
       "      <th>7309</th>\n",
       "      <td>0.759676</td>\n",
       "      <td>ZAAP-95--</td>\n",
       "      <td>0.326552</td>\n",
       "    </tr>\n",
       "    <tr>\n",
       "      <th>7287</th>\n",
       "      <td>0.678641</td>\n",
       "      <td>ZAAP-27--</td>\n",
       "      <td>0.315527</td>\n",
       "    </tr>\n",
       "    <tr>\n",
       "      <th>7268</th>\n",
       "      <td>0.628424</td>\n",
       "      <td>ZAAP-128--</td>\n",
       "      <td>0.274942</td>\n",
       "    </tr>\n",
       "    <tr>\n",
       "      <th>7303</th>\n",
       "      <td>0.815166</td>\n",
       "      <td>ZAAP-48--</td>\n",
       "      <td>0.265930</td>\n",
       "    </tr>\n",
       "    <tr>\n",
       "      <th>4166</th>\n",
       "      <td>0.644997</td>\n",
       "      <td>MALOOB-467--</td>\n",
       "      <td>0.247382</td>\n",
       "    </tr>\n",
       "    <tr>\n",
       "      <th>7270</th>\n",
       "      <td>0.696360</td>\n",
       "      <td>ZAAP-15--</td>\n",
       "      <td>0.238966</td>\n",
       "    </tr>\n",
       "    <tr>\n",
       "      <th>3994</th>\n",
       "      <td>0.792049</td>\n",
       "      <td>KU-84--</td>\n",
       "      <td>0.226448</td>\n",
       "    </tr>\n",
       "    <tr>\n",
       "      <th>7265</th>\n",
       "      <td>0.748298</td>\n",
       "      <td>ZAAP-118--</td>\n",
       "      <td>0.211032</td>\n",
       "    </tr>\n",
       "    <tr>\n",
       "      <th>7289</th>\n",
       "      <td>0.623116</td>\n",
       "      <td>ZAAP-28--</td>\n",
       "      <td>0.192402</td>\n",
       "    </tr>\n",
       "    <tr>\n",
       "      <th>4111</th>\n",
       "      <td>0.627985</td>\n",
       "      <td>MALOOB-339--</td>\n",
       "      <td>0.192345</td>\n",
       "    </tr>\n",
       "    <tr>\n",
       "      <th>824</th>\n",
       "      <td>0.635173</td>\n",
       "      <td>BACAB-21--</td>\n",
       "      <td>0.172707</td>\n",
       "    </tr>\n",
       "    <tr>\n",
       "      <th>6047</th>\n",
       "      <td>0.602616</td>\n",
       "      <td>SIHIL-24--</td>\n",
       "      <td>0.165502</td>\n",
       "    </tr>\n",
       "    <tr>\n",
       "      <th>3973</th>\n",
       "      <td>0.603295</td>\n",
       "      <td>KU-128D-</td>\n",
       "      <td>0.158273</td>\n",
       "    </tr>\n",
       "    <tr>\n",
       "      <th>6037</th>\n",
       "      <td>0.835869</td>\n",
       "      <td>SIHIL-108--</td>\n",
       "      <td>0.145227</td>\n",
       "    </tr>\n",
       "    <tr>\n",
       "      <th>7276</th>\n",
       "      <td>0.716801</td>\n",
       "      <td>ZAAP-2031--</td>\n",
       "      <td>0.136200</td>\n",
       "    </tr>\n",
       "    <tr>\n",
       "      <th>6648</th>\n",
       "      <td>0.726366</td>\n",
       "      <td>TAKIN-22--</td>\n",
       "      <td>0.117247</td>\n",
       "    </tr>\n",
       "    <tr>\n",
       "      <th>7299</th>\n",
       "      <td>0.633912</td>\n",
       "      <td>ZAAP-4--</td>\n",
       "      <td>0.103986</td>\n",
       "    </tr>\n",
       "    <tr>\n",
       "      <th>3828</th>\n",
       "      <td>0.735453</td>\n",
       "      <td>IXTOC-19--</td>\n",
       "      <td>0.095774</td>\n",
       "    </tr>\n",
       "    <tr>\n",
       "      <th>33</th>\n",
       "      <td>0.760711</td>\n",
       "      <td>ABKATUN-37--</td>\n",
       "      <td>0.089300</td>\n",
       "    </tr>\n",
       "    <tr>\n",
       "      <th>4095</th>\n",
       "      <td>0.768054</td>\n",
       "      <td>LUM-1--</td>\n",
       "      <td>0.067197</td>\n",
       "    </tr>\n",
       "    <tr>\n",
       "      <th>5990</th>\n",
       "      <td>0.603573</td>\n",
       "      <td>SANTUARIO-403--</td>\n",
       "      <td>0.064504</td>\n",
       "    </tr>\n",
       "    <tr>\n",
       "      <th>4096</th>\n",
       "      <td>0.724220</td>\n",
       "      <td>LUM-2--</td>\n",
       "      <td>0.059810</td>\n",
       "    </tr>\n",
       "    <tr>\n",
       "      <th>3495</th>\n",
       "      <td>0.763357</td>\n",
       "      <td>GASIFERO-71--</td>\n",
       "      <td>0.056421</td>\n",
       "    </tr>\n",
       "    <tr>\n",
       "      <th>5921</th>\n",
       "      <td>0.829724</td>\n",
       "      <td>SAN RAMON-525--</td>\n",
       "      <td>0.055861</td>\n",
       "    </tr>\n",
       "    <tr>\n",
       "      <th>286</th>\n",
       "      <td>0.794448</td>\n",
       "      <td>AKAL-1027D-</td>\n",
       "      <td>0.050771</td>\n",
       "    </tr>\n",
       "    <tr>\n",
       "      <th>...</th>\n",
       "      <td>...</td>\n",
       "      <td>...</td>\n",
       "      <td>...</td>\n",
       "    </tr>\n",
       "    <tr>\n",
       "      <th>5859</th>\n",
       "      <td>0.651483</td>\n",
       "      <td>SAN ANDRES-333--</td>\n",
       "      <td>0.000736</td>\n",
       "    </tr>\n",
       "    <tr>\n",
       "      <th>6483</th>\n",
       "      <td>0.860195</td>\n",
       "      <td>SUR AMATLAN-8--</td>\n",
       "      <td>0.000718</td>\n",
       "    </tr>\n",
       "    <tr>\n",
       "      <th>1398</th>\n",
       "      <td>0.625271</td>\n",
       "      <td>COAPECHACA-505--</td>\n",
       "      <td>0.000663</td>\n",
       "    </tr>\n",
       "    <tr>\n",
       "      <th>3578</th>\n",
       "      <td>0.706940</td>\n",
       "      <td>HALLAZGO-64--</td>\n",
       "      <td>0.000634</td>\n",
       "    </tr>\n",
       "    <tr>\n",
       "      <th>3914</th>\n",
       "      <td>0.754688</td>\n",
       "      <td>JUAN FELIPE-150--</td>\n",
       "      <td>0.000626</td>\n",
       "    </tr>\n",
       "    <tr>\n",
       "      <th>6129</th>\n",
       "      <td>0.685387</td>\n",
       "      <td>SOLEDAD NORTE-267--</td>\n",
       "      <td>0.000623</td>\n",
       "    </tr>\n",
       "    <tr>\n",
       "      <th>3403</th>\n",
       "      <td>0.619241</td>\n",
       "      <td>FURBERO-2024--</td>\n",
       "      <td>0.000612</td>\n",
       "    </tr>\n",
       "    <tr>\n",
       "      <th>1632</th>\n",
       "      <td>0.657816</td>\n",
       "      <td>CONSTITUCIONES-202--</td>\n",
       "      <td>0.000563</td>\n",
       "    </tr>\n",
       "    <tr>\n",
       "      <th>4255</th>\n",
       "      <td>0.695398</td>\n",
       "      <td>MESA CERRADA-117--</td>\n",
       "      <td>0.000548</td>\n",
       "    </tr>\n",
       "    <tr>\n",
       "      <th>5934</th>\n",
       "      <td>0.610119</td>\n",
       "      <td>SAN RAMON-545--</td>\n",
       "      <td>0.000523</td>\n",
       "    </tr>\n",
       "    <tr>\n",
       "      <th>6495</th>\n",
       "      <td>0.882713</td>\n",
       "      <td>SUR CHINAMPA NORTE DE AMATLAN-450--</td>\n",
       "      <td>0.000515</td>\n",
       "    </tr>\n",
       "    <tr>\n",
       "      <th>5216</th>\n",
       "      <td>0.694126</td>\n",
       "      <td>POZA RICA-813--</td>\n",
       "      <td>0.000511</td>\n",
       "    </tr>\n",
       "    <tr>\n",
       "      <th>6821</th>\n",
       "      <td>0.623851</td>\n",
       "      <td>TEPETATE NORTE CHINAMPA-5--</td>\n",
       "      <td>0.000486</td>\n",
       "    </tr>\n",
       "    <tr>\n",
       "      <th>5852</th>\n",
       "      <td>0.638914</td>\n",
       "      <td>SAN ANDRES-297--</td>\n",
       "      <td>0.000483</td>\n",
       "    </tr>\n",
       "    <tr>\n",
       "      <th>3651</th>\n",
       "      <td>0.685363</td>\n",
       "      <td>HUMAPA-1296--</td>\n",
       "      <td>0.000473</td>\n",
       "    </tr>\n",
       "    <tr>\n",
       "      <th>1638</th>\n",
       "      <td>0.784579</td>\n",
       "      <td>CONSTITUCIONES-227--</td>\n",
       "      <td>0.000432</td>\n",
       "    </tr>\n",
       "    <tr>\n",
       "      <th>4422</th>\n",
       "      <td>0.796420</td>\n",
       "      <td>MORALILLO-207--</td>\n",
       "      <td>0.000431</td>\n",
       "    </tr>\n",
       "    <tr>\n",
       "      <th>378</th>\n",
       "      <td>0.774803</td>\n",
       "      <td>ALAZAN-31--</td>\n",
       "      <td>0.000424</td>\n",
       "    </tr>\n",
       "    <tr>\n",
       "      <th>3766</th>\n",
       "      <td>0.729581</td>\n",
       "      <td>HUMAPA-4544--</td>\n",
       "      <td>0.000369</td>\n",
       "    </tr>\n",
       "    <tr>\n",
       "      <th>6807</th>\n",
       "      <td>0.637763</td>\n",
       "      <td>TEMAPACHE-201--</td>\n",
       "      <td>0.000354</td>\n",
       "    </tr>\n",
       "    <tr>\n",
       "      <th>6478</th>\n",
       "      <td>0.777580</td>\n",
       "      <td>SUR AMATLAN-35--</td>\n",
       "      <td>0.000329</td>\n",
       "    </tr>\n",
       "    <tr>\n",
       "      <th>6844</th>\n",
       "      <td>0.728317</td>\n",
       "      <td>TIERRA BLANCA CH.-1101--</td>\n",
       "      <td>0.000298</td>\n",
       "    </tr>\n",
       "    <tr>\n",
       "      <th>6851</th>\n",
       "      <td>0.713053</td>\n",
       "      <td>TIERRA BLANCA CH.-1209-A</td>\n",
       "      <td>0.000288</td>\n",
       "    </tr>\n",
       "    <tr>\n",
       "      <th>6856</th>\n",
       "      <td>0.620678</td>\n",
       "      <td>TIERRA BLANCA CH.-54--</td>\n",
       "      <td>0.000249</td>\n",
       "    </tr>\n",
       "    <tr>\n",
       "      <th>1669</th>\n",
       "      <td>0.600910</td>\n",
       "      <td>CONSTITUCIONES-408--</td>\n",
       "      <td>0.000222</td>\n",
       "    </tr>\n",
       "    <tr>\n",
       "      <th>4991</th>\n",
       "      <td>0.622518</td>\n",
       "      <td>PANUCO-1006--</td>\n",
       "      <td>0.000171</td>\n",
       "    </tr>\n",
       "    <tr>\n",
       "      <th>6285</th>\n",
       "      <td>0.637969</td>\n",
       "      <td>SOLIS-133--</td>\n",
       "      <td>0.000045</td>\n",
       "    </tr>\n",
       "    <tr>\n",
       "      <th>1744</th>\n",
       "      <td>0.616498</td>\n",
       "      <td>CORCOVADO-7--</td>\n",
       "      <td>0.000037</td>\n",
       "    </tr>\n",
       "    <tr>\n",
       "      <th>6286</th>\n",
       "      <td>0.713261</td>\n",
       "      <td>SOLIS-137--</td>\n",
       "      <td>0.000031</td>\n",
       "    </tr>\n",
       "    <tr>\n",
       "      <th>6278</th>\n",
       "      <td>0.713262</td>\n",
       "      <td>SOLIS-104--</td>\n",
       "      <td>0.000031</td>\n",
       "    </tr>\n",
       "  </tbody>\n",
       "</table>\n",
       "<p>298 rows × 3 columns</p>\n",
       "</div>"
      ],
      "text/plain": [
       "            R2                                pozos    slopes\n",
       "7274  0.610944                             ZAAP-2--  0.520009\n",
       "7235  0.865349                           XANAB-52--  0.460291\n",
       "7267  0.841306                           ZAAP-126--  0.455553\n",
       "7263  0.791921                           ZAAP-110D-  0.435273\n",
       "3997  0.686679                              KU-87--  0.348323\n",
       "7309  0.759676                            ZAAP-95--  0.326552\n",
       "7287  0.678641                            ZAAP-27--  0.315527\n",
       "7268  0.628424                           ZAAP-128--  0.274942\n",
       "7303  0.815166                            ZAAP-48--  0.265930\n",
       "4166  0.644997                         MALOOB-467--  0.247382\n",
       "7270  0.696360                            ZAAP-15--  0.238966\n",
       "3994  0.792049                              KU-84--  0.226448\n",
       "7265  0.748298                           ZAAP-118--  0.211032\n",
       "7289  0.623116                            ZAAP-28--  0.192402\n",
       "4111  0.627985                         MALOOB-339--  0.192345\n",
       "824   0.635173                           BACAB-21--  0.172707\n",
       "6047  0.602616                           SIHIL-24--  0.165502\n",
       "3973  0.603295                             KU-128D-  0.158273\n",
       "6037  0.835869                          SIHIL-108--  0.145227\n",
       "7276  0.716801                          ZAAP-2031--  0.136200\n",
       "6648  0.726366                           TAKIN-22--  0.117247\n",
       "7299  0.633912                             ZAAP-4--  0.103986\n",
       "3828  0.735453                           IXTOC-19--  0.095774\n",
       "33    0.760711                         ABKATUN-37--  0.089300\n",
       "4095  0.768054                              LUM-1--  0.067197\n",
       "5990  0.603573                      SANTUARIO-403--  0.064504\n",
       "4096  0.724220                              LUM-2--  0.059810\n",
       "3495  0.763357                        GASIFERO-71--  0.056421\n",
       "5921  0.829724                      SAN RAMON-525--  0.055861\n",
       "286   0.794448                          AKAL-1027D-  0.050771\n",
       "...        ...                                  ...       ...\n",
       "5859  0.651483                     SAN ANDRES-333--  0.000736\n",
       "6483  0.860195                      SUR AMATLAN-8--  0.000718\n",
       "1398  0.625271                     COAPECHACA-505--  0.000663\n",
       "3578  0.706940                        HALLAZGO-64--  0.000634\n",
       "3914  0.754688                    JUAN FELIPE-150--  0.000626\n",
       "6129  0.685387                  SOLEDAD NORTE-267--  0.000623\n",
       "3403  0.619241                       FURBERO-2024--  0.000612\n",
       "1632  0.657816                 CONSTITUCIONES-202--  0.000563\n",
       "4255  0.695398                   MESA CERRADA-117--  0.000548\n",
       "5934  0.610119                      SAN RAMON-545--  0.000523\n",
       "6495  0.882713  SUR CHINAMPA NORTE DE AMATLAN-450--  0.000515\n",
       "5216  0.694126                      POZA RICA-813--  0.000511\n",
       "6821  0.623851          TEPETATE NORTE CHINAMPA-5--  0.000486\n",
       "5852  0.638914                     SAN ANDRES-297--  0.000483\n",
       "3651  0.685363                        HUMAPA-1296--  0.000473\n",
       "1638  0.784579                 CONSTITUCIONES-227--  0.000432\n",
       "4422  0.796420                      MORALILLO-207--  0.000431\n",
       "378   0.774803                          ALAZAN-31--  0.000424\n",
       "3766  0.729581                        HUMAPA-4544--  0.000369\n",
       "6807  0.637763                      TEMAPACHE-201--  0.000354\n",
       "6478  0.777580                     SUR AMATLAN-35--  0.000329\n",
       "6844  0.728317             TIERRA BLANCA CH.-1101--  0.000298\n",
       "6851  0.713053             TIERRA BLANCA CH.-1209-A  0.000288\n",
       "6856  0.620678               TIERRA BLANCA CH.-54--  0.000249\n",
       "1669  0.600910                 CONSTITUCIONES-408--  0.000222\n",
       "4991  0.622518                        PANUCO-1006--  0.000171\n",
       "6285  0.637969                          SOLIS-133--  0.000045\n",
       "1744  0.616498                        CORCOVADO-7--  0.000037\n",
       "6286  0.713261                          SOLIS-137--  0.000031\n",
       "6278  0.713262                          SOLIS-104--  0.000031\n",
       "\n",
       "[298 rows x 3 columns]"
      ]
     },
     "execution_count": 27,
     "metadata": {},
     "output_type": "execute_result"
    }
   ],
   "source": [
    "seleccion = seleccion.sort_values(['slopes','R2'], ascending=[0, 0])\n",
    "seleccion"
   ]
  },
  {
   "cell_type": "markdown",
   "metadata": {},
   "source": [
    "Para visualizar la tendencia del pozo con el valor de $R^2$ más elevado puede hacerse lo siguiente."
   ]
  },
  {
   "cell_type": "code",
   "execution_count": 28,
   "metadata": {
    "collapsed": false
   },
   "outputs": [
    {
     "data": {
      "text/html": [
       "<div>\n",
       "<table border=\"1\" class=\"dataframe\">\n",
       "  <thead>\n",
       "    <tr style=\"text-align: right;\">\n",
       "      <th></th>\n",
       "      <th>R2</th>\n",
       "      <th>pozos</th>\n",
       "      <th>slopes</th>\n",
       "    </tr>\n",
       "  </thead>\n",
       "  <tbody>\n",
       "    <tr>\n",
       "      <th>7274</th>\n",
       "      <td>0.610944</td>\n",
       "      <td>ZAAP-2--</td>\n",
       "      <td>0.520009</td>\n",
       "    </tr>\n",
       "  </tbody>\n",
       "</table>\n",
       "</div>"
      ],
      "text/plain": [
       "            R2     pozos    slopes\n",
       "7274  0.610944  ZAAP-2--  0.520009"
      ]
     },
     "execution_count": 28,
     "metadata": {},
     "output_type": "execute_result"
    }
   ],
   "source": [
    "seleccion.loc[[7274]]"
   ]
  },
  {
   "cell_type": "code",
   "execution_count": 29,
   "metadata": {
    "collapsed": false
   },
   "outputs": [
    {
     "data": {
      "image/png": "[encoded data removed]",
      "text/plain": [
       "<matplotlib.figure.Figure at 0x7f2d202a0750>"
      ]
     },
     "metadata": {},
     "output_type": "display_data"
    }
   ],
   "source": [
    "seleccion.loc[[7274]]['pozos']\n",
    "zaap_2 = Reg(\"ZAAP-2--\",7)\n",
    "zaap_2.Parametros()\n",
    "zaap_2.Graficar()"
   ]
  },
  {
   "cell_type": "markdown",
   "metadata": {},
   "source": [
    "## 3. Consideraciones finales\n",
    "\n",
    "En esta práctica se optó por generar una solución flexible y escalable que permita modificar los criterios de selección de pozos o aplicar la metodología adoptada a un conjunto de datos más amplio. \n",
    "\n",
    "Al usar un lenguaje como _Python_ se puede realizar este mismo análisis para otro conjunto de datos siempre y cuando éste cuente con el mismo formato que tiene la tabla original que se proporcionó para realizar esta práctica. Cuando se dice que esta solución está diseñada para ser escalabe se hace referencia a la posibilidad de reproducir una metodología sin que el _software_ o paquete utilizado se convierta en una restricción; éste puede ser el caso de las hojas de cálculo cuya capacidad para procesar mucha información suele ser limitada.\n",
    "\n",
    "Al decir que esta solución es flexible se pueden abordar al menos dos aspectos. El primero se refiere a los criterios de selección para los pozos; debido a que se utilizaron filtros para obtener ciertos resultados, basta con cambiar el valor de dichos filtros para obtener resultados diferentes. Por ejemplo, en vez de sólo escoger pozos con 14 observaciones podría relajarse esta condición y tomar en cuenta registros que cuentan con al menos 10 o 12 observaciones; del mismo modo, los valores tanto de $\\theta_1$ y de $R^2$ pueden modificarse también.\n",
    "\n",
    "Otro aspecto que puede ofrecer mucha flexibilidad en el análisis es la programación orientada objetos. En esta práctica sólo se escribieron métodos para calcular algunos parámetros de una regresión lineal; esta metodología puede presentar ciertos problemas pues tanto la pendiente como el coeficiente de determinación usados conjuntamente como medida de tendencia hacen una severa generalización sobre la serie de tiempo observada. No es posible con este método precisar en qué periodo se aceleró o ralentizó la producción de un pozo; asimismo, pueden darse parámetros con valores elevados debido a observaciones atípicas en un periodo tardío que no reflejan el potencial de producción más reciente.\n",
    "\n",
    "En este sentido, la programación orientada objetos permite escribir nuevos métodos que arrojen nuevos parámetros bajo diferentes metodologías sin tener que modificar grandes porciones del código. Un ejemplo para el tipo de análisis que se hizo en esta práctica es la programación de un método, o función, que calcule las medias móviles simples o exponenciales para las mismas series de tiempo. Las medias móviles ofrecerían una medida de tendencia menos rígida, pues ésta puede variar a lo largo del tiempo en función del comportamiento que muestren los datos; con esto es posible identificar periodos en los que se esté dando un punto de inflexión. Por ejemplo, el cálculo de medias móviles permitiría centrarse en pozos en los que se aprecia una tendencia más pronunciada hacia la alza durante las observaciones más recientes, o descartar a quellos pozos que muestren un comportamiento similar pero a la inversa.\n",
    "\n",
    "\n"
   ]
  }
 ],
 "metadata": {
  "kernelspec": {
   "display_name": "Python 2",
   "language": "python",
   "name": "python2"
  },
  "language_info": {
   "codemirror_mode": {
    "name": "ipython",
    "version": 2
   },
   "file_extension": ".py",
   "mimetype": "text/x-python",
   "name": "python",
   "nbconvert_exporter": "python",
   "pygments_lexer": "ipython2",
   "version": "2.7.6"
  }
 },
 "nbformat": 4,
 "nbformat_minor": 2
}
