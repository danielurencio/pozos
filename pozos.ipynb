{
 "cells": [
  {
   "cell_type": "markdown",
   "metadata": {},
   "source": [
    "# Práctica: Análisis de datos para la exploración de pozos\n",
    "\n",
    "## Resumen\n",
    "\n",
    "El objetivo de este ejercicio es, a través de un análisis de datos, determinar en qué pozos debe de enfocarse la atención para la extracción de petróleo.\n",
    "\n",
    "La metodología adoptada en este análisis consiste en analizar la serie de tiempo para cada uno de los pozos con datos para 14 meses. Es decir, sólo se tomará en cuenta aquellos pozos para los cuales existe información para el periodo comprendido entre enero de 2016 y febrero de 2017, ya que dicho rango es el máximo posible de acuerdo con la base de datos que fue proporcionada.\n",
    "\n",
    "Para cada uno de los pozos que cumplió con el criterio anterior se ajustó una regresión lineal cuya variable dependiente $y$ es la producción de petróleo, y la variable independiente $x$ es el índice del periodo observado. Debido a que se cuenta con 14 meses, el índice de cada periodo es un número entero entre 0 y 13 ( $x$ E [0,14]). Cada una de estas regresiones se ajustó para fines meramente descriptivos, pues su propósito es obtener una línea de tendencia durante los 14 periodos analizados. Para conocer si la tendencia es positiva o negativa se observó el valor de la pendiente resultante del cómputo de una función lineal a través del método de mínimos cuadrados ordinarios; para conocer si dicha tendencia, o comportamiento, ha sido estable a lo largo del periodo analizado se observó el coeficiente de determinación, o $R^2$ ($R^2$ e (0,1)).\n",
    "\n",
    "Los pozos seleccionados fueron aquellos cuya línea de tendencia fue positiva y con una bondad de ajuste por arriba del 60 por ciento.\n",
    "\n",
    "\n",
    "## Introducción\n",
    "\n",
    "Esta práctica se desarrolló con el lenguaje de programación Python y este documento se hizo con una herramienta llamada Jupyter.\n",
    "\n",
    "Este trabajo está dividido en \"n\" secciones...\n",
    "\n",
    "Los archivos con los cuales se hizo este análisis se encuentran albergados en un repositorio público en Github. Éste puede descargarse accediendo a la siguiente liga: https://github.com/danielurencio/pozos.\n",
    "\n",
    "$x = a + b*x$"
   ]
  },
  {
   "cell_type": "markdown",
   "metadata": {},
   "source": [
    "## Preprocesamiento de datos\n",
    "\n",
    "### Transformación de formato\n",
    "\n",
    "Para llevar a cabo este análisis se obtuvo un archivo en formato Excel (xlsx) el cual contiene 138 mil 876 filas y 13 columnas. Antes de cargar la información a una terminal de línea de comando de Python se transformó el archivo original a un formato delimitado por comas (csv). Posteriormente, se eliminaron las primeras 8 líneas de dicha transformación y se sustituyeron algunos caracteres para evitar problemas al interpretar algunos caracteres latinos.\n",
    "\n",
    "Se creó, por lo tanto, un archivo para ser ejecutado con UNIX Shell, éste contiene 14 líneas. En términos generales, los comandos de este archivo, que se enlistan a continuación, crean y modifican el archivo delimitado por comas (pozos.csv) que será utilizado en Python para llevar a cabo todo el análisis."
   ]
  },
  {
   "cell_type": "code",
   "execution_count": 28,
   "metadata": {
    "collapsed": true
   },
   "outputs": [],
   "source": [
    "# xlsx2csv P*.xlsx > pozos.csv    # Convertir a CSV.\n",
    "# sed -i '1,8d' pozos.csv         # Eliminar las primeras ocho líneas.\n",
    "# sed -i \"s/  */ /g\" pozos.csv    # Borrar dobles espacios.\n",
    "# sed -i \"s/Á/A/g\" pozos.csv\n",
    "# sed -i \"s/á/a/g\" pozos.csv\n",
    "# sed -i \"s/É/E/g\" pozos.csv\n",
    "# sed -i \"s/é/e/g\" pozos.csv\n",
    "# sed -i \"s/Í/I/g\" pozos.csv\n",
    "# sed -i \"s/í/i/g\" pozos.csv\n",
    "# sed -i \"s/Ó/O/g\" pozos.csv\n",
    "# sed -i \"s/ó/o/g\" pozos.csv\n",
    "# sed -i \"s/Ú/U/g\" pozos.csv\n",
    "# sed -i \"s/Ñ/N/g\" pozos.csv\n",
    "# sed -i \"s/ñ/n/g\" pozos.csv"
   ]
  },
  {
   "cell_type": "markdown",
   "metadata": {},
   "source": [
    "### Dependencias y procesamiento adicional en Python\n",
    "\n",
    "Las dependencias que se utilizaron para este análisis se enlistan a continuación. (Todas las líneas que se muestran abajo, con excepción de la primera, se encuentran en el archivo original del repositorio. El comando \"%matplotlib inline\" se incluye para poder visualizar gráficas dentro de este documento; dicho comando es, por lo tanto, una funcionalidad exclusiva de Jupyter)."
   ]
  },
  {
   "cell_type": "code",
   "execution_count": 29,
   "metadata": {
    "collapsed": false
   },
   "outputs": [],
   "source": [
    "%matplotlib inline\n",
    "import pandas\n",
    "import numpy as np\n",
    "import matplotlib.pyplot as plt\n",
    "from datetime import datetime\n",
    "from scipy import stats"
   ]
  },
  {
   "cell_type": "markdown",
   "metadata": {},
   "source": [
    "Una vez que se cuenta con las dependencias es posible cargar el archivo \"pozos.csv\". Para ello se utilizará la librería \"Pandas\" y se declarará una variable con nombre \"data\" para almacenar en ésta la información del archivo. Asimismo, se cambiará el nombre de todas las columnas para evitar problemas con caracteres latinos (principalmente con palabras acentuadas)."
   ]
  },
  {
   "cell_type": "markdown",
   "metadata": {},
   "source": [
    "Para conocer el número de pozos puede hacerse lo siguiente."
   ]
  },
  {
   "cell_type": "code",
   "execution_count": 30,
   "metadata": {
    "collapsed": false
   },
   "outputs": [],
   "source": [
    "## Crear DataFrame con los datos sobre pozos.\n",
    "data = pandas.read_csv(\"pozos.csv\",encoding=\"utf-8\",delimiter=\",\");\n",
    "\n",
    "## Renombrar columnas.\n",
    "data.columns = [\"periodo\",\"asignacion\",\"region_fiscal\",\"campo_oficial\",\"pozo\",\"ronda_licitacion\",\n",
    "                \"compania\",\"produccion_petroleo(mbd)\",\"produccion_gas_asociado(mmpcd)\",\n",
    "                \"produccion_gas_no_asociado(mmpcd)\",\"produccion_total_de_gas(mmpcd)\",\"tipo_de_aceite\",\n",
    "                \"pozo_productor\"];"
   ]
  },
  {
   "cell_type": "markdown",
   "metadata": {},
   "source": [
    "Ahora que la información del archivo se encuentra en la línea de comando es posible visualizar ésta como una tabla (DataFrame)."
   ]
  },
  {
   "cell_type": "code",
   "execution_count": 31,
   "metadata": {
    "collapsed": false
   },
   "outputs": [
    {
     "data": {
      "text/html": [
       "<div>\n",
       "<table border=\"1\" class=\"dataframe\">\n",
       "  <thead>\n",
       "    <tr style=\"text-align: right;\">\n",
       "      <th></th>\n",
       "      <th>periodo</th>\n",
       "      <th>asignacion</th>\n",
       "      <th>region_fiscal</th>\n",
       "      <th>campo_oficial</th>\n",
       "      <th>pozo</th>\n",
       "      <th>ronda_licitacion</th>\n",
       "      <th>compania</th>\n",
       "      <th>produccion_petroleo(mbd)</th>\n",
       "      <th>produccion_gas_asociado(mmpcd)</th>\n",
       "      <th>produccion_gas_no_asociado(mmpcd)</th>\n",
       "      <th>produccion_total_de_gas(mmpcd)</th>\n",
       "      <th>tipo_de_aceite</th>\n",
       "      <th>pozo_productor</th>\n",
       "    </tr>\n",
       "  </thead>\n",
       "  <tbody>\n",
       "    <tr>\n",
       "      <th>0</th>\n",
       "      <td>Jan-16</td>\n",
       "      <td>A-0001 - Campo Abkatun</td>\n",
       "      <td>Aguas Someras</td>\n",
       "      <td>Abkatun</td>\n",
       "      <td>ABKATUN-211--</td>\n",
       "      <td>R0</td>\n",
       "      <td>Pemex</td>\n",
       "      <td>0.756978</td>\n",
       "      <td>1.923678</td>\n",
       "      <td>0.0</td>\n",
       "      <td>1.923678</td>\n",
       "      <td>Ligero</td>\n",
       "      <td>1</td>\n",
       "    </tr>\n",
       "    <tr>\n",
       "      <th>1</th>\n",
       "      <td>Jan-16</td>\n",
       "      <td>A-0001 - Campo Abkatun</td>\n",
       "      <td>Aguas Someras</td>\n",
       "      <td>Abkatun</td>\n",
       "      <td>ABKATUN-216--</td>\n",
       "      <td>R0</td>\n",
       "      <td>Pemex</td>\n",
       "      <td>0.073139</td>\n",
       "      <td>0.051653</td>\n",
       "      <td>0.0</td>\n",
       "      <td>0.051653</td>\n",
       "      <td>Ligero</td>\n",
       "      <td>1</td>\n",
       "    </tr>\n",
       "    <tr>\n",
       "      <th>2</th>\n",
       "      <td>Jan-16</td>\n",
       "      <td>A-0001 - Campo Abkatun</td>\n",
       "      <td>Aguas Someras</td>\n",
       "      <td>Abkatun</td>\n",
       "      <td>ABKATUN-221--</td>\n",
       "      <td>R0</td>\n",
       "      <td>Pemex</td>\n",
       "      <td>0.584042</td>\n",
       "      <td>1.137749</td>\n",
       "      <td>0.0</td>\n",
       "      <td>1.137749</td>\n",
       "      <td>Ligero</td>\n",
       "      <td>1</td>\n",
       "    </tr>\n",
       "    <tr>\n",
       "      <th>3</th>\n",
       "      <td>Jan-16</td>\n",
       "      <td>A-0001 - Campo Abkatun</td>\n",
       "      <td>Aguas Someras</td>\n",
       "      <td>Abkatun</td>\n",
       "      <td>ABKATUN-223--</td>\n",
       "      <td>R0</td>\n",
       "      <td>Pemex</td>\n",
       "      <td>0.209442</td>\n",
       "      <td>1.044266</td>\n",
       "      <td>0.0</td>\n",
       "      <td>1.044266</td>\n",
       "      <td>Ligero</td>\n",
       "      <td>1</td>\n",
       "    </tr>\n",
       "    <tr>\n",
       "      <th>4</th>\n",
       "      <td>Jan-16</td>\n",
       "      <td>A-0001 - Campo Abkatun</td>\n",
       "      <td>Aguas Someras</td>\n",
       "      <td>Abkatun</td>\n",
       "      <td>ABKATUN-35--</td>\n",
       "      <td>R0</td>\n",
       "      <td>Pemex</td>\n",
       "      <td>1.003177</td>\n",
       "      <td>1.054900</td>\n",
       "      <td>0.0</td>\n",
       "      <td>1.054900</td>\n",
       "      <td>Ligero</td>\n",
       "      <td>1</td>\n",
       "    </tr>\n",
       "  </tbody>\n",
       "</table>\n",
       "</div>"
      ],
      "text/plain": [
       "  periodo              asignacion  region_fiscal campo_oficial           pozo  \\\n",
       "0  Jan-16  A-0001 - Campo Abkatun  Aguas Someras       Abkatun  ABKATUN-211--   \n",
       "1  Jan-16  A-0001 - Campo Abkatun  Aguas Someras       Abkatun  ABKATUN-216--   \n",
       "2  Jan-16  A-0001 - Campo Abkatun  Aguas Someras       Abkatun  ABKATUN-221--   \n",
       "3  Jan-16  A-0001 - Campo Abkatun  Aguas Someras       Abkatun  ABKATUN-223--   \n",
       "4  Jan-16  A-0001 - Campo Abkatun  Aguas Someras       Abkatun   ABKATUN-35--   \n",
       "\n",
       "  ronda_licitacion compania  produccion_petroleo(mbd)  \\\n",
       "0               R0    Pemex                  0.756978   \n",
       "1               R0    Pemex                  0.073139   \n",
       "2               R0    Pemex                  0.584042   \n",
       "3               R0    Pemex                  0.209442   \n",
       "4               R0    Pemex                  1.003177   \n",
       "\n",
       "   produccion_gas_asociado(mmpcd)  produccion_gas_no_asociado(mmpcd)  \\\n",
       "0                        1.923678                                0.0   \n",
       "1                        0.051653                                0.0   \n",
       "2                        1.137749                                0.0   \n",
       "3                        1.044266                                0.0   \n",
       "4                        1.054900                                0.0   \n",
       "\n",
       "   produccion_total_de_gas(mmpcd) tipo_de_aceite  pozo_productor  \n",
       "0                        1.923678         Ligero               1  \n",
       "1                        0.051653         Ligero               1  \n",
       "2                        1.137749         Ligero               1  \n",
       "3                        1.044266         Ligero               1  \n",
       "4                        1.054900         Ligero               1  "
      ]
     },
     "execution_count": 31,
     "metadata": {},
     "output_type": "execute_result"
    }
   ],
   "source": [
    "data.head()"
   ]
  },
  {
   "cell_type": "code",
   "execution_count": 32,
   "metadata": {
    "collapsed": false
   },
   "outputs": [
    {
     "name": "stdout",
     "output_type": "stream",
     "text": [
      "11646\n",
      "[u'5 PRESIDENTES-12--' u'5 PRESIDENTES-145D-' u'5 PRESIDENTES-151--' ...,\n",
      " u'ZAPOTALILLO-3--' u'ZAPOTALILLO-8--' u'ZAPOTALILLO-9--']\n"
     ]
    }
   ],
   "source": [
    "## Pozos (sin repetir valores) \n",
    "pozos = np.unique(data.pozo.values);\n",
    "print len(pozos)\n",
    "print pozos"
   ]
  },
  {
   "cell_type": "markdown",
   "metadata": {},
   "source": [
    "Lo anterior indica que existe información para 11 mil 646 pozos.\n",
    "\n",
    "Dado que este análisis toma en cuenta la serie de tiempo para cada pozo, es necesario asegurarse de que los datos están ordenados temporalmente. Por ello, como medida de precaución, se transformarán los campos que incluyen las fechas a un formato temporal. Hasta este punto, la información sobre el periodo de tiempo de cada pozo está almacenada como un conjunto de caracteres, por lo que si se pretende ordenar ésta de modo ascendente se obtendrá un orden alfabético y no temporal."
   ]
  },
  {
   "cell_type": "code",
   "execution_count": 35,
   "metadata": {
    "collapsed": false
   },
   "outputs": [
    {
     "data": {
      "text/plain": [
       "0       2016-01-01 00:00:00\n",
       "4627    2016-01-01 00:00:00\n",
       "1       2016-01-01 00:00:00\n",
       "2       2016-01-01 00:00:00\n",
       "3       2016-01-01 00:00:00\n",
       "Name: periodo, dtype: object"
      ]
     },
     "execution_count": 35,
     "metadata": {},
     "output_type": "execute_result"
    }
   ],
   "source": [
    "# Ordenar el campo con periodos de modo ascendente.\n",
    "data.sort_values(by=\"periodo\").head()[\"periodo\"]"
   ]
  },
  {
   "cell_type": "markdown",
   "metadata": {},
   "source": [
    "Para corregir lo anterior se cambiará el formato del campo con los periodos para que en el código su información sea interpretada como fechas y no como caracteres."
   ]
  },
  {
   "cell_type": "code",
   "execution_count": 34,
   "metadata": {
    "collapsed": true
   },
   "outputs": [],
   "source": [
    "periodos = data.periodo.values;\n",
    "\n",
    "for i in range(len(periodos)):\n",
    "    periodos[i] = periodos[i].encode(\"utf-8\");\n",
    "    periodos[i] = datetime.strptime(periodos[i],\"%b-%y\");\n",
    "\n",
    "periodos = pandas.DataFrame({ \"periodos\":periodos[:] })\n",
    "data.periodos = periodos;\n",
    "\n",
    "# Ordenar por fecha\n",
    "data = data.sort_values(by=\"periodo\")\n"
   ]
  },
  {
   "cell_type": "code",
   "execution_count": 23,
   "metadata": {
    "collapsed": false
   },
   "outputs": [],
   "source": [
    "#a.plot.density(); plt.show()"
   ]
  },
  {
   "cell_type": "code",
   "execution_count": null,
   "metadata": {
    "collapsed": true
   },
   "outputs": [],
   "source": []
  }
 ],
 "metadata": {
  "kernelspec": {
   "display_name": "Python 2",
   "language": "python",
   "name": "python2"
  },
  "language_info": {
   "codemirror_mode": {
    "name": "ipython",
    "version": 2
   },
   "file_extension": ".py",
   "mimetype": "text/x-python",
   "name": "python",
   "nbconvert_exporter": "python",
   "pygments_lexer": "ipython2",
   "version": "2.7.6"
  }
 },
 "nbformat": 4,
 "nbformat_minor": 2
}
